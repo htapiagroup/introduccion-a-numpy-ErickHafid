{
  "nbformat": 4,
  "nbformat_minor": 0,
  "metadata": {
    "anaconda-cloud": {},
    "kernelspec": {
      "display_name": "Python 2",
      "language": "python",
      "name": "python2"
    },
    "language_info": {
      "codemirror_mode": {
        "name": "ipython",
        "version": 2
      },
      "file_extension": ".py",
      "mimetype": "text/x-python",
      "name": "python",
      "nbconvert_exporter": "python",
      "pygments_lexer": "ipython2",
      "version": "2.7.15"
    },
    "colab": {
      "name": "01.03-Computation-on-arrays-ufuncs.ipynb",
      "provenance": []
    }
  },
  "cells": [
    {
      "cell_type": "markdown",
      "metadata": {
        "id": "r-mbWuwcvgdI",
        "colab_type": "text"
      },
      "source": [
        "<!--NAVIGATION-->\n",
        "< [Basicos de NumPy: arreglos](01.02-The-Basics-Of-NumPy-Arrays.ipynb) | [Contenido](Index.ipynb) | [Agregaciones: Min, Max, etc.](01.04-Computation-on-arrays-aggregates.ipynb) >\n",
        "\n",
        "<a href=\"https://colab.research.google.com/github/htapia/TallerPythonIntroCienciaDatos/blob/master/notebooks/01.03-Computation-on-arrays-ufuncs.ipynb\"><img align=\"left\" src=\"https://colab.research.google.com/assets/colab-badge.svg\" alt=\"Open in Colab\" title=\"Open and Execute in Google Colaboratory\"></a>\n"
      ]
    },
    {
      "cell_type": "markdown",
      "metadata": {
        "id": "UshCrnIkvgdL",
        "colab_type": "text"
      },
      "source": [
        "# Cálculos con Arrays 1. Ufuncs"
      ]
    },
    {
      "cell_type": "markdown",
      "metadata": {
        "id": "Xjf23JCzvgdi",
        "colab_type": "text"
      },
      "source": [
        "## Los Loops son Lentooosss"
      ]
    },
    {
      "cell_type": "code",
      "metadata": {
        "id": "uuS553Tlvgdl",
        "colab_type": "code",
        "colab": {
          "base_uri": "https://localhost:8080/",
          "height": 34
        },
        "outputId": "94dd4d20-bdea-4d54-f36c-67d997893afc"
      },
      "source": [
        "import numpy as np\n",
        "np.random.seed(0)\n",
        "\n",
        "def compute_reciprocals(values):\n",
        "    output = np.empty(len(values))\n",
        "    for i in range(len(values)):\n",
        "        output[i] = 1.0 / values[i]\n",
        "    return output\n",
        "        \n",
        "values = np.random.randint(1, 10, size=5)\n",
        "compute_reciprocals(values)"
      ],
      "execution_count": 1,
      "outputs": [
        {
          "output_type": "execute_result",
          "data": {
            "text/plain": [
              "array([0.16666667, 1.        , 0.25      , 0.25      , 0.125     ])"
            ]
          },
          "metadata": {
            "tags": []
          },
          "execution_count": 1
        }
      ]
    },
    {
      "cell_type": "code",
      "metadata": {
        "id": "pnXEG6O1vgdy",
        "colab_type": "code",
        "colab": {
          "base_uri": "https://localhost:8080/",
          "height": 34
        },
        "outputId": "b3bbe188-7a3e-463b-e936-d919aa23409d"
      },
      "source": [
        "big_array = np.random.randint(1, 100, size=1000000)\n",
        "%timeit compute_reciprocals(big_array)"
      ],
      "execution_count": 2,
      "outputs": [
        {
          "output_type": "stream",
          "text": [
            "1 loop, best of 3: 206 ms per loop\n"
          ],
          "name": "stdout"
        }
      ]
    },
    {
      "cell_type": "markdown",
      "metadata": {
        "id": "1lteD6t3vgd8",
        "colab_type": "text"
      },
      "source": [
        "## UFuncs\n",
        "\n",
        "Operaciones *vectorizadas*"
      ]
    },
    {
      "cell_type": "code",
      "metadata": {
        "id": "meeegz0KvgeD",
        "colab_type": "code",
        "colab": {
          "base_uri": "https://localhost:8080/",
          "height": 51
        },
        "outputId": "946d1625-1ec7-4d3f-8c7d-e8d98e3bca27"
      },
      "source": [
        "print(compute_reciprocals(values))\n",
        "print(1.0 / values)"
      ],
      "execution_count": 3,
      "outputs": [
        {
          "output_type": "stream",
          "text": [
            "[0.16666667 1.         0.25       0.25       0.125     ]\n",
            "[0.16666667 1.         0.25       0.25       0.125     ]\n"
          ],
          "name": "stdout"
        }
      ]
    },
    {
      "cell_type": "code",
      "metadata": {
        "id": "iIl3SmTsvgeT",
        "colab_type": "code",
        "colab": {
          "base_uri": "https://localhost:8080/",
          "height": 34
        },
        "outputId": "a8b83d5a-380a-4b47-cee0-077168c95385"
      },
      "source": [
        "%timeit (1.0 / big_array)"
      ],
      "execution_count": 4,
      "outputs": [
        {
          "output_type": "stream",
          "text": [
            "100 loops, best of 3: 3.45 ms per loop\n"
          ],
          "name": "stdout"
        }
      ]
    },
    {
      "cell_type": "code",
      "metadata": {
        "id": "DRzWCbVfvgeb",
        "colab_type": "code",
        "colab": {
          "base_uri": "https://localhost:8080/",
          "height": 34
        },
        "outputId": "21b729a0-28f9-4ec3-d617-4e958faac48d"
      },
      "source": [
        "np.arange(5) / np.arange(1, 6)"
      ],
      "execution_count": 5,
      "outputs": [
        {
          "output_type": "execute_result",
          "data": {
            "text/plain": [
              "array([0, 0, 0, 0, 0])"
            ]
          },
          "metadata": {
            "tags": []
          },
          "execution_count": 5
        }
      ]
    },
    {
      "cell_type": "code",
      "metadata": {
        "id": "xMa8pUMevger",
        "colab_type": "code",
        "colab": {
          "base_uri": "https://localhost:8080/",
          "height": 68
        },
        "outputId": "80e9830e-6451-4f2b-be2d-6ce4e3a6541c"
      },
      "source": [
        "x = np.arange(9).reshape((3, 3))\n",
        "2 ** x"
      ],
      "execution_count": 6,
      "outputs": [
        {
          "output_type": "execute_result",
          "data": {
            "text/plain": [
              "array([[  1,   2,   4],\n",
              "       [  8,  16,  32],\n",
              "       [ 64, 128, 256]])"
            ]
          },
          "metadata": {
            "tags": []
          },
          "execution_count": 6
        }
      ]
    },
    {
      "cell_type": "markdown",
      "metadata": {
        "id": "k26ZdPQqvgfD",
        "colab_type": "text"
      },
      "source": [
        "Cálculos usando vectorizacion a través de ufuncs son en general más eficientes que la implementación usando loops"
      ]
    },
    {
      "cell_type": "markdown",
      "metadata": {
        "id": "1HOwJNy0vgfG",
        "colab_type": "text"
      },
      "source": [
        "## Exploración de UFuncs\n",
        "\n",
        "Ufuncs: \n",
        "- *unary ufuncs*, operan sobre una sola entrada \n",
        "- *binary ufuncs*, operan sobre dos entradas."
      ]
    },
    {
      "cell_type": "markdown",
      "metadata": {
        "id": "ex797_g7vgfJ",
        "colab_type": "text"
      },
      "source": [
        "### Aritmética de Array \n",
        "\n",
        "Las operaciones aritméticas de adición, substracción, multiplicación y división standard:"
      ]
    },
    {
      "cell_type": "code",
      "metadata": {
        "id": "NK68KriQvgfM",
        "colab_type": "code",
        "colab": {
          "base_uri": "https://localhost:8080/",
          "height": 119
        },
        "outputId": "be9d2307-6c0a-4b18-c0fa-b41c1aa236a0"
      },
      "source": [
        "x = np.arange(4)\n",
        "print(\"x     =\", x)\n",
        "print(\"x + 5 =\", x + 5)\n",
        "print(\"x - 5 =\", x - 5)\n",
        "print(\"x * 2 =\", x * 2)\n",
        "print(\"x / 2 =\", x / 2)\n",
        "print(\"x // 2 =\", x // 2)  # floor division"
      ],
      "execution_count": 7,
      "outputs": [
        {
          "output_type": "stream",
          "text": [
            "('x     =', array([0, 1, 2, 3]))\n",
            "('x + 5 =', array([5, 6, 7, 8]))\n",
            "('x - 5 =', array([-5, -4, -3, -2]))\n",
            "('x * 2 =', array([0, 2, 4, 6]))\n",
            "('x / 2 =', array([0, 0, 1, 1]))\n",
            "('x // 2 =', array([0, 0, 1, 1]))\n"
          ],
          "name": "stdout"
        }
      ]
    },
    {
      "cell_type": "markdown",
      "metadata": {
        "id": "bhoT52gcvgfm",
        "colab_type": "text"
      },
      "source": [
        "Negation, operador de exponencia ``**`` y operador de módulo ``%``:"
      ]
    },
    {
      "cell_type": "code",
      "metadata": {
        "id": "CORdsa0Jvgfq",
        "colab_type": "code",
        "colab": {
          "base_uri": "https://localhost:8080/",
          "height": 68
        },
        "outputId": "0dde3058-888c-42d1-eefe-d772eadc6005"
      },
      "source": [
        "print(\"-x     = \", -x)\n",
        "print(\"x ** 2 = \", x ** 2)\n",
        "print(\"x % 2  = \", x % 2)"
      ],
      "execution_count": 8,
      "outputs": [
        {
          "output_type": "stream",
          "text": [
            "('-x     = ', array([ 0, -1, -2, -3]))\n",
            "('x ** 2 = ', array([0, 1, 4, 9]))\n",
            "('x % 2  = ', array([0, 1, 0, 1]))\n"
          ],
          "name": "stdout"
        }
      ]
    },
    {
      "cell_type": "markdown",
      "metadata": {
        "id": "UR-j84Civgf4",
        "colab_type": "text"
      },
      "source": [
        "Orden standard de las operaciones:"
      ]
    },
    {
      "cell_type": "code",
      "metadata": {
        "id": "M4mNg4OWvgf9",
        "colab_type": "code",
        "colab": {
          "base_uri": "https://localhost:8080/",
          "height": 34
        },
        "outputId": "6265e98b-5f8d-4a7c-c553-c19b6ee851ce"
      },
      "source": [
        "-(0.5*x + 1) ** 2"
      ],
      "execution_count": 9,
      "outputs": [
        {
          "output_type": "execute_result",
          "data": {
            "text/plain": [
              "array([-1.  , -2.25, -4.  , -6.25])"
            ]
          },
          "metadata": {
            "tags": []
          },
          "execution_count": 9
        }
      ]
    },
    {
      "cell_type": "markdown",
      "metadata": {
        "id": "ObgPCjP2vggd",
        "colab_type": "text"
      },
      "source": [
        "El operador ``+`` es un wrapper para la función ``add``:"
      ]
    },
    {
      "cell_type": "code",
      "metadata": {
        "id": "9s3Ge7Lkvggm",
        "colab_type": "code",
        "colab": {
          "base_uri": "https://localhost:8080/",
          "height": 34
        },
        "outputId": "3daa759d-48a0-489f-c662-3028d26a642a"
      },
      "source": [
        "np.add(x, 2)"
      ],
      "execution_count": 10,
      "outputs": [
        {
          "output_type": "execute_result",
          "data": {
            "text/plain": [
              "array([2, 3, 4, 5])"
            ]
          },
          "metadata": {
            "tags": []
          },
          "execution_count": 10
        }
      ]
    },
    {
      "cell_type": "markdown",
      "metadata": {
        "id": "UJvTMANovggt",
        "colab_type": "text"
      },
      "source": [
        "The siguiente tabla enlista los operadores aritméticos implementados en NumPy:\n",
        "\n",
        "| Operator\t    | Equivalent ufunc    | Description                           |\n",
        "|---------------|---------------------|---------------------------------------|\n",
        "|``+``          |``np.add``           |Addition (e.g., ``1 + 1 = 2``)         |\n",
        "|``-``          |``np.subtract``      |Subtraction (e.g., ``3 - 2 = 1``)      |\n",
        "|``-``          |``np.negative``      |Unary negation (e.g., ``-2``)          |\n",
        "|``*``          |``np.multiply``      |Multiplication (e.g., ``2 * 3 = 6``)   |\n",
        "|``/``          |``np.divide``        |Division (e.g., ``3 / 2 = 1.5``)       |\n",
        "|``//``         |``np.floor_divide``  |Floor division (e.g., ``3 // 2 = 1``)  |\n",
        "|``**``         |``np.power``         |Exponentiation (e.g., ``2 ** 3 = 8``)  |\n",
        "|``%``          |``np.mod``           |Modulus/remainder (e.g., ``9 % 4 = 1``)|\n",
        "\n",
        "Adicionalmente, hay operadores Boolean; exploraremos éstos en [Comparaciones, mascaras y logica booleana](01.06-Boolean-Arrays-and-Masks.ipynb)."
      ]
    },
    {
      "cell_type": "markdown",
      "metadata": {
        "id": "9BQagiECvggw",
        "colab_type": "text"
      },
      "source": [
        "### Valor Absoluto\n"
      ]
    },
    {
      "cell_type": "code",
      "metadata": {
        "id": "jJyqAbKsvggz",
        "colab_type": "code",
        "colab": {
          "base_uri": "https://localhost:8080/",
          "height": 34
        },
        "outputId": "ebfb3185-5d92-4537-f6e3-1f4b8b2f293e"
      },
      "source": [
        "# Python abs\n",
        "x = np.array([-2, -1, 0, 1, 2])\n",
        "abs(x)"
      ],
      "execution_count": 11,
      "outputs": [
        {
          "output_type": "execute_result",
          "data": {
            "text/plain": [
              "array([2, 1, 0, 1, 2])"
            ]
          },
          "metadata": {
            "tags": []
          },
          "execution_count": 11
        }
      ]
    },
    {
      "cell_type": "code",
      "metadata": {
        "id": "c8j-eSPgvghC",
        "colab_type": "code",
        "colab": {
          "base_uri": "https://localhost:8080/",
          "height": 34
        },
        "outputId": "2adac43b-cd6b-4333-cd6a-b22e5d113458"
      },
      "source": [
        "np.absolute(x)"
      ],
      "execution_count": 12,
      "outputs": [
        {
          "output_type": "execute_result",
          "data": {
            "text/plain": [
              "array([2, 1, 0, 1, 2])"
            ]
          },
          "metadata": {
            "tags": []
          },
          "execution_count": 12
        }
      ]
    },
    {
      "cell_type": "code",
      "metadata": {
        "id": "B6EhZFFCvghU",
        "colab_type": "code",
        "colab": {
          "base_uri": "https://localhost:8080/",
          "height": 34
        },
        "outputId": "48286d32-2290-47af-938b-10db505d027d"
      },
      "source": [
        "np.abs(x)"
      ],
      "execution_count": 13,
      "outputs": [
        {
          "output_type": "execute_result",
          "data": {
            "text/plain": [
              "array([2, 1, 0, 1, 2])"
            ]
          },
          "metadata": {
            "tags": []
          },
          "execution_count": 13
        }
      ]
    },
    {
      "cell_type": "markdown",
      "metadata": {
        "id": "vxrA3lr5vghg",
        "colab_type": "text"
      },
      "source": [
        "Esta ufunc puede operar sobre números complejos:"
      ]
    },
    {
      "cell_type": "code",
      "metadata": {
        "id": "gq9x5uB-vghj",
        "colab_type": "code",
        "colab": {
          "base_uri": "https://localhost:8080/",
          "height": 34
        },
        "outputId": "5b995a90-6f07-4672-939c-6852b2928234"
      },
      "source": [
        "x = np.array([3 - 4j, 4 - 3j, 2 + 0j, 0 + 1j])\n",
        "np.abs(x)"
      ],
      "execution_count": 14,
      "outputs": [
        {
          "output_type": "execute_result",
          "data": {
            "text/plain": [
              "array([5., 5., 2., 1.])"
            ]
          },
          "metadata": {
            "tags": []
          },
          "execution_count": 14
        }
      ]
    },
    {
      "cell_type": "markdown",
      "metadata": {
        "id": "jYBLWC2zvghx",
        "colab_type": "text"
      },
      "source": [
        "### Funciones Trigonometricas\n"
      ]
    },
    {
      "cell_type": "code",
      "metadata": {
        "id": "OXwvT0Uvvgh0",
        "colab_type": "code",
        "colab": {}
      },
      "source": [
        "theta = np.linspace(0, np.pi, 3)"
      ],
      "execution_count": 0,
      "outputs": []
    },
    {
      "cell_type": "code",
      "metadata": {
        "id": "lJ7kbSnbvgiB",
        "colab_type": "code",
        "colab": {
          "base_uri": "https://localhost:8080/",
          "height": 85
        },
        "outputId": "c8bf0683-f33b-4530-c0be-0f3c7bd4e10d"
      },
      "source": [
        "print(\"theta      = \", theta)\n",
        "print(\"sin(theta) = \", np.sin(theta))\n",
        "print(\"cos(theta) = \", np.cos(theta))\n",
        "print(\"tan(theta) = \", np.tan(theta))"
      ],
      "execution_count": 16,
      "outputs": [
        {
          "output_type": "stream",
          "text": [
            "('theta      = ', array([0.        , 1.57079633, 3.14159265]))\n",
            "('sin(theta) = ', array([0.0000000e+00, 1.0000000e+00, 1.2246468e-16]))\n",
            "('cos(theta) = ', array([ 1.000000e+00,  6.123234e-17, -1.000000e+00]))\n",
            "('tan(theta) = ', array([ 0.00000000e+00,  1.63312394e+16, -1.22464680e-16]))\n"
          ],
          "name": "stdout"
        }
      ]
    },
    {
      "cell_type": "code",
      "metadata": {
        "id": "vR7IhT86vgii",
        "colab_type": "code",
        "colab": {
          "base_uri": "https://localhost:8080/",
          "height": 85
        },
        "outputId": "ad17c82c-0340-44a8-efa8-6d2b2313aafc"
      },
      "source": [
        "x = [-1, 0, 1]\n",
        "print(\"x         = \", x)\n",
        "print(\"arcsin(x) = \", np.arcsin(x))\n",
        "print(\"arccos(x) = \", np.arccos(x))\n",
        "print(\"arctan(x) = \", np.arctan(x))"
      ],
      "execution_count": 17,
      "outputs": [
        {
          "output_type": "stream",
          "text": [
            "('x         = ', [-1, 0, 1])\n",
            "('arcsin(x) = ', array([-1.57079633,  0.        ,  1.57079633]))\n",
            "('arccos(x) = ', array([3.14159265, 1.57079633, 0.        ]))\n",
            "('arctan(x) = ', array([-0.78539816,  0.        ,  0.78539816]))\n"
          ],
          "name": "stdout"
        }
      ]
    },
    {
      "cell_type": "markdown",
      "metadata": {
        "id": "ezp6a2vgvgi4",
        "colab_type": "text"
      },
      "source": [
        "### Exponentes y Logaritmos\n"
      ]
    },
    {
      "cell_type": "code",
      "metadata": {
        "id": "OzJXnHKnvgi-",
        "colab_type": "code",
        "colab": {
          "base_uri": "https://localhost:8080/",
          "height": 85
        },
        "outputId": "56275036-93aa-49ab-eab6-469b5f03c3d8"
      },
      "source": [
        "x = [1, 2, 3]\n",
        "print(\"x     =\", x)\n",
        "print(\"e^x   =\", np.exp(x))\n",
        "print(\"2^x   =\", np.exp2(x))\n",
        "print(\"3^x   =\", np.power(3, x))"
      ],
      "execution_count": 18,
      "outputs": [
        {
          "output_type": "stream",
          "text": [
            "('x     =', [1, 2, 3])\n",
            "('e^x   =', array([ 2.71828183,  7.3890561 , 20.08553692]))\n",
            "('2^x   =', array([2., 4., 8.]))\n",
            "('3^x   =', array([ 3,  9, 27]))\n"
          ],
          "name": "stdout"
        }
      ]
    },
    {
      "cell_type": "code",
      "metadata": {
        "id": "YoyiiKDyvgjW",
        "colab_type": "code",
        "colab": {
          "base_uri": "https://localhost:8080/",
          "height": 85
        },
        "outputId": "6d732d29-6ade-4a56-b54d-03e1be9d438c"
      },
      "source": [
        "x = [1, 2, 4, 10]\n",
        "print(\"x        =\", x)\n",
        "print(\"ln(x)    =\", np.log(x))\n",
        "print(\"log2(x)  =\", np.log2(x))\n",
        "print(\"log10(x) =\", np.log10(x))"
      ],
      "execution_count": 19,
      "outputs": [
        {
          "output_type": "stream",
          "text": [
            "('x        =', [1, 2, 4, 10])\n",
            "('ln(x)    =', array([0.        , 0.69314718, 1.38629436, 2.30258509]))\n",
            "('log2(x)  =', array([0.        , 1.        , 2.        , 3.32192809]))\n",
            "('log10(x) =', array([0.        , 0.30103   , 0.60205999, 1.        ]))\n"
          ],
          "name": "stdout"
        }
      ]
    },
    {
      "cell_type": "code",
      "metadata": {
        "id": "KNOMpOJlvgjj",
        "colab_type": "code",
        "colab": {
          "base_uri": "https://localhost:8080/",
          "height": 51
        },
        "outputId": "99c5c192-b6c5-4124-979e-353160dfadd7"
      },
      "source": [
        "# for small input\n",
        "x = [0, 0.001, 0.01, 0.1]\n",
        "print(\"exp(x) - 1 =\", np.expm1(x))\n",
        "print(\"log(1 + x) =\", np.log1p(x))"
      ],
      "execution_count": 20,
      "outputs": [
        {
          "output_type": "stream",
          "text": [
            "('exp(x) - 1 =', array([0.        , 0.0010005 , 0.01005017, 0.10517092]))\n",
            "('log(1 + x) =', array([0.        , 0.0009995 , 0.00995033, 0.09531018]))\n"
          ],
          "name": "stdout"
        }
      ]
    },
    {
      "cell_type": "markdown",
      "metadata": {
        "id": "GMWg1A41vgjx",
        "colab_type": "text"
      },
      "source": [
        "### Ufuncs especializadas\n"
      ]
    },
    {
      "cell_type": "code",
      "metadata": {
        "id": "cLHQGAHXvgj1",
        "colab_type": "code",
        "colab": {}
      },
      "source": [
        "from scipy import special"
      ],
      "execution_count": 0,
      "outputs": []
    },
    {
      "cell_type": "code",
      "metadata": {
        "id": "9fxOt-zLvgkK",
        "colab_type": "code",
        "colab": {
          "base_uri": "https://localhost:8080/",
          "height": 68
        },
        "outputId": "54f024df-793a-4990-ab99-a2fadfa7b533"
      },
      "source": [
        "# Gamma functions (generalized factorials) and related functions\n",
        "x = [1, 5, 10]\n",
        "print(\"gamma(x)     =\", special.gamma(x))\n",
        "print(\"ln|gamma(x)| =\", special.gammaln(x))\n",
        "print(\"beta(x, 2)   =\", special.beta(x, 2))"
      ],
      "execution_count": 22,
      "outputs": [
        {
          "output_type": "stream",
          "text": [
            "('gamma(x)     =', array([1.0000e+00, 2.4000e+01, 3.6288e+05]))\n",
            "('ln|gamma(x)| =', array([ 0.        ,  3.17805383, 12.80182748]))\n",
            "('beta(x, 2)   =', array([0.5       , 0.03333333, 0.00909091]))\n"
          ],
          "name": "stdout"
        }
      ]
    },
    {
      "cell_type": "code",
      "metadata": {
        "id": "E94dwn8zvgkU",
        "colab_type": "code",
        "colab": {
          "base_uri": "https://localhost:8080/",
          "height": 68
        },
        "outputId": "26bbb61b-e634-49b7-b161-164841efac9d"
      },
      "source": [
        "# Error function (integral of Gaussian)\n",
        "# its complement, and its inverse\n",
        "x = np.array([0, 0.3, 0.7, 1.0])\n",
        "print(\"erf(x)  =\", special.erf(x))\n",
        "print(\"erfc(x) =\", special.erfc(x))\n",
        "print(\"erfinv(x) =\", special.erfinv(x))"
      ],
      "execution_count": 23,
      "outputs": [
        {
          "output_type": "stream",
          "text": [
            "('erf(x)  =', array([0.        , 0.32862676, 0.67780119, 0.84270079]))\n",
            "('erfc(x) =', array([1.        , 0.67137324, 0.32219881, 0.15729921]))\n",
            "('erfinv(x) =', array([0.        , 0.27246271, 0.73286908,        inf]))\n"
          ],
          "name": "stdout"
        }
      ]
    },
    {
      "cell_type": "markdown",
      "metadata": {
        "id": "QxUGI9JFvgkh",
        "colab_type": "text"
      },
      "source": [
        "## Propiedades Avanzadas de Ufunc \n"
      ]
    },
    {
      "cell_type": "markdown",
      "metadata": {
        "id": "rCAfoosHvgkj",
        "colab_type": "text"
      },
      "source": [
        "### Especificando la salida\n",
        "\n",
        "Todas las ufuncs pueden usar el argumento ``out`` para indicar donde asignar el resultado"
      ]
    },
    {
      "cell_type": "code",
      "metadata": {
        "id": "Z2yqkyWOvgkn",
        "colab_type": "code",
        "colab": {
          "base_uri": "https://localhost:8080/",
          "height": 34
        },
        "outputId": "23dc4234-387f-45c3-d8eb-683baea8f1ad"
      },
      "source": [
        "x = np.arange(5)\n",
        "y = np.empty(5)\n",
        "np.multiply(x, 10, out=y)\n",
        "print(y)"
      ],
      "execution_count": 24,
      "outputs": [
        {
          "output_type": "stream",
          "text": [
            "[ 0. 10. 20. 30. 40.]\n"
          ],
          "name": "stdout"
        }
      ]
    },
    {
      "cell_type": "code",
      "metadata": {
        "id": "0fhdrhsbvgkw",
        "colab_type": "code",
        "colab": {
          "base_uri": "https://localhost:8080/",
          "height": 34
        },
        "outputId": "2474c7df-41e0-4873-b018-40047187e4be"
      },
      "source": [
        "y = np.zeros(10)\n",
        "np.power(2, x, out=y[::2])\n",
        "print(y)"
      ],
      "execution_count": 25,
      "outputs": [
        {
          "output_type": "stream",
          "text": [
            "[ 1.  0.  2.  0.  4.  0.  8.  0. 16.  0.]\n"
          ],
          "name": "stdout"
        }
      ]
    },
    {
      "cell_type": "code",
      "metadata": {
        "id": "W-KHEvCfvgk7",
        "colab_type": "code",
        "colab": {}
      },
      "source": [
        "# lo mismo pero crea un array temporal para guardar el resultado de 2**x, \n",
        "# seguido de una segunda operacion que copia esos valores a y \n",
        "# que puede ser costoso para arrays grandes\n",
        "y = np.zeros(10)\n",
        "y[::2] = 2**x"
      ],
      "execution_count": 0,
      "outputs": []
    },
    {
      "cell_type": "markdown",
      "metadata": {
        "id": "_ASwinPbvglS",
        "colab_type": "text"
      },
      "source": [
        "### Agregaciones\n"
      ]
    },
    {
      "cell_type": "code",
      "metadata": {
        "id": "eG65NrdZvglW",
        "colab_type": "code",
        "colab": {
          "base_uri": "https://localhost:8080/",
          "height": 34
        },
        "outputId": "e891ea44-d8af-4315-b230-6d0e09ee7fdb"
      },
      "source": [
        "x = np.arange(1, 6)\n",
        "np.add.reduce(x)"
      ],
      "execution_count": 27,
      "outputs": [
        {
          "output_type": "execute_result",
          "data": {
            "text/plain": [
              "15"
            ]
          },
          "metadata": {
            "tags": []
          },
          "execution_count": 27
        }
      ]
    },
    {
      "cell_type": "code",
      "metadata": {
        "id": "LoKp15Kqvglf",
        "colab_type": "code",
        "colab": {
          "base_uri": "https://localhost:8080/",
          "height": 34
        },
        "outputId": "bee0f2b7-73ed-4d1d-8e96-2c06606539fa"
      },
      "source": [
        "np.multiply.reduce(x)"
      ],
      "execution_count": 28,
      "outputs": [
        {
          "output_type": "execute_result",
          "data": {
            "text/plain": [
              "120"
            ]
          },
          "metadata": {
            "tags": []
          },
          "execution_count": 28
        }
      ]
    },
    {
      "cell_type": "code",
      "metadata": {
        "id": "py4TR2S9vglo",
        "colab_type": "code",
        "colab": {
          "base_uri": "https://localhost:8080/",
          "height": 34
        },
        "outputId": "fae5af94-77ff-4857-9d93-5d8ebbb12370"
      },
      "source": [
        "np.add.accumulate(x)"
      ],
      "execution_count": 29,
      "outputs": [
        {
          "output_type": "execute_result",
          "data": {
            "text/plain": [
              "array([ 1,  3,  6, 10, 15])"
            ]
          },
          "metadata": {
            "tags": []
          },
          "execution_count": 29
        }
      ]
    },
    {
      "cell_type": "code",
      "metadata": {
        "id": "fw16NKuYvglw",
        "colab_type": "code",
        "colab": {
          "base_uri": "https://localhost:8080/",
          "height": 34
        },
        "outputId": "1e4bc10b-569c-4d70-b0ab-97c90cffb1fc"
      },
      "source": [
        "np.multiply.accumulate(x)"
      ],
      "execution_count": 30,
      "outputs": [
        {
          "output_type": "execute_result",
          "data": {
            "text/plain": [
              "array([  1,   2,   6,  24, 120])"
            ]
          },
          "metadata": {
            "tags": []
          },
          "execution_count": 30
        }
      ]
    },
    {
      "cell_type": "markdown",
      "metadata": {
        "id": "uK0t9DO9vgmF",
        "colab_type": "text"
      },
      "source": [
        "Exploraremos un poco mas en [Agregaciones: Min, Max, etc.](01.04-Computation-on-arrays-aggregates.ipynb)."
      ]
    },
    {
      "cell_type": "markdown",
      "metadata": {
        "id": "R6IsnFuGvgmL",
        "colab_type": "text"
      },
      "source": [
        "### Productos exteriores\n"
      ]
    },
    {
      "cell_type": "code",
      "metadata": {
        "scrolled": true,
        "id": "4VO2spYgvgmP",
        "colab_type": "code",
        "colab": {
          "base_uri": "https://localhost:8080/",
          "height": 102
        },
        "outputId": "fc3080c2-6ad5-4918-f4ad-bbec1ef102d8"
      },
      "source": [
        "x = np.arange(1, 6)\n",
        "np.multiply.outer(x, x)"
      ],
      "execution_count": 31,
      "outputs": [
        {
          "output_type": "execute_result",
          "data": {
            "text/plain": [
              "array([[ 1,  2,  3,  4,  5],\n",
              "       [ 2,  4,  6,  8, 10],\n",
              "       [ 3,  6,  9, 12, 15],\n",
              "       [ 4,  8, 12, 16, 20],\n",
              "       [ 5, 10, 15, 20, 25]])"
            ]
          },
          "metadata": {
            "tags": []
          },
          "execution_count": 31
        }
      ]
    },
    {
      "cell_type": "markdown",
      "metadata": {
        "id": "g3SmPcYwvgm-",
        "colab_type": "text"
      },
      "source": [
        "Otros métodos se exploran en [Más índices](01.07-Fancy-Indexing.ipynb),asi como la habilidad de operar entre arrays de distintos tamaños y formas, llamado *broadcasting*, que se ve en [Calculos con Arrays 2. Broadcasting](01.05-Computation-on-arrays-broadcasting.ipynb)."
      ]
    },
    {
      "cell_type": "markdown",
      "metadata": {
        "id": "yF0T_xibvgnB",
        "colab_type": "text"
      },
      "source": [
        "## Ufuncs: Más información"
      ]
    },
    {
      "cell_type": "markdown",
      "metadata": {
        "id": "JVXW-mYLvgnD",
        "colab_type": "text"
      },
      "source": [
        "Más información sobre las funciones universales puede consultarse en la documentación de [NumPy](http://www.numpy.org) y [SciPy](http://www.scipy.org)."
      ]
    },
    {
      "cell_type": "markdown",
      "metadata": {
        "id": "hAzHCM4SvgnH",
        "colab_type": "text"
      },
      "source": [
        "<!--NAVIGATION-->\n",
        "< [Basicos de NumPy: arreglos](01.02-The-Basics-Of-NumPy-Arrays.ipynb) | [Contenido](Index.ipynb) | [Agregaciones: Min, Max, etc.](01.04-Computation-on-arrays-aggregates.ipynb) >\n",
        "\n",
        "<a href=\"https://colab.research.google.com/github/htapia/TallerPythonIntroCienciaDatos/blob/master/notebooks/01.03-Computation-on-arrays-ufuncs.ipynb\"><img align=\"left\" src=\"https://colab.research.google.com/assets/colab-badge.svg\" alt=\"Open in Colab\" title=\"Open and Execute in Google Colaboratory\"></a>\n"
      ]
    }
  ]
}