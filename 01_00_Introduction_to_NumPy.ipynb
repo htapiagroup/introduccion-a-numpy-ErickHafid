{
  "nbformat": 4,
  "nbformat_minor": 0,
  "metadata": {
    "anaconda-cloud": {},
    "kernelspec": {
      "display_name": "Python 3",
      "language": "python",
      "name": "python2"
    },
    "language_info": {
      "codemirror_mode": {
        "name": "ipython",
        "version": 2
      },
      "file_extension": ".py",
      "mimetype": "text/x-python",
      "name": "python",
      "nbconvert_exporter": "python",
      "pygments_lexer": "ipython2",
      "version": "2.7.15"
    },
    "colab": {
      "name": "01.00-Introduction-to-NumPy.ipynb",
      "provenance": [],
      "include_colab_link": true
    }
  },
  "cells": [
    {
      "cell_type": "markdown",
      "metadata": {
        "id": "view-in-github",
        "colab_type": "text"
      },
      "source": [
        "<a href=\"https://colab.research.google.com/github/htapiagroup/introduccion-a-numpy-ErickHafid/blob/master/01_00_Introduction_to_NumPy.ipynb\" target=\"_parent\"><img src=\"https://colab.research.google.com/assets/colab-badge.svg\" alt=\"Open In Colab\"/></a>"
      ]
    },
    {
      "cell_type": "markdown",
      "metadata": {
        "id": "XGzOn9NGdj1o",
        "colab_type": "text"
      },
      "source": [
        "# Introducción a NumPy"
      ]
    },
    {
      "cell_type": "markdown",
      "metadata": {
        "id": "n0U4prwwdj1r",
        "colab_type": "text"
      },
      "source": [
        "En este taller vamos a presentar tecnicas para cargar, guardar y manipular de forma efectiva datos en memoria con Python. El tipo de datos con los que van a encontrarse es muy amplio: la información puede provenir de múltiples fuentes y tener una variedad de formatos, incluyendo documentos, imagenes, sonidos, videos, mediciones numéricas, o cualquier cosa. Sin embargo es útil pensar en cualquier forma de datos como arreglos de números.\n",
        "\n",
        "En esta sección vamos a ver la librería NumPy (*Numerical Python*) que proporciona una interfaz para guardar y operar sobre arreglos de datos.\n",
        "Los arreglos en NumPy son como el tipo de datos ``list`` disponible en Python, pero proporcionan mucho más operaciones y eficiencia en la manipulación y el manejo de los arreglos conforme estos incrementan de tamaño.\n",
        "\n",
        "En la infraestructura que estamos usando, NumPy ya está disponible (así como la mayoría del ecosistema para ciencia de datos en Python). Pueden checar la versión disponible de la siguiente forma:"
      ]
    },
    {
      "cell_type": "code",
      "metadata": {
        "id": "sEJr7-RSdj1t",
        "colab_type": "code",
        "outputId": "31e08008-d5ec-4274-8870-b397f9ee5f9f",
        "colab": {
          "base_uri": "https://localhost:8080/",
          "height": 34
        }
      },
      "source": [
        "import numpy\n",
        "numpy.__version__"
      ],
      "execution_count": 0,
      "outputs": [
        {
          "output_type": "execute_result",
          "data": {
            "text/plain": [
              "'1.16.4'"
            ]
          },
          "metadata": {
            "tags": []
          },
          "execution_count": 2
        }
      ]
    },
    {
      "cell_type": "markdown",
      "metadata": {
        "id": "XCtuRUt0dj16",
        "colab_type": "text"
      },
      "source": [
        "Encontrarán que la mayoría de los usuarios importan NumPy usando ``np`` como alias:"
      ]
    },
    {
      "cell_type": "code",
      "metadata": {
        "id": "nJp2ZZcwdj18",
        "colab_type": "code",
        "colab": {}
      },
      "source": [
        "import numpy as np"
      ],
      "execution_count": 0,
      "outputs": []
    },
    {
      "cell_type": "markdown",
      "metadata": {
        "id": "KptK536Jdj2J",
        "colab_type": "text"
      },
      "source": [
        "Usaremos esta convención para importar NumPy a lo largo de este Taller."
      ]
    },
    {
      "cell_type": "markdown",
      "metadata": {
        "id": "vCa31x1Fdj2L",
        "colab_type": "text"
      },
      "source": [
        "## Acerca de la Documentación\n",
        "\n",
        "IPyhton, a través de las libretas de Jupyter, proporciona un acceso rápido para explorar los contenidos de un paquete, usando la tecla ``tab``, asi como a la documentación de las funciones, usando el caracter ``?`` al final del nombre.\n",
        "\n",
        "<!--As you read through this chapter, don't forget that IPython gives you the ability to quickly explore the contents of a package (by using the tab-completion feature), as well as the documentation of various functions (using the ``?`` character – Refer back to [Help and Documentation in IPython](01.01-Help-And-Documentation.ipynb)).-->\n",
        "\n",
        "Por ejemplo, para ver los contenidos del espacio de numpy, pueden escribir lo siguiente\n",
        "\n",
        "```ipython\n",
        "In [3]: np.<TAB>\n",
        "```\n",
        "\n",
        "Para desplegar la documentación de NumPy pueden usar:\n",
        "\n",
        "```ipython\n",
        "In [4]: np?\n",
        "```"
      ]
    },
    {
      "cell_type": "markdown",
      "metadata": {
        "id": "RfPIalyLdj2N",
        "colab_type": "text"
      },
      "source": [
        "<!--NAVIGATION-->\n",
        "< [Prefacio](00.00-Preface.ipynb) | [Contenido](Index.ipynb) | [Tipos de Datos en Python](01.01-Understanding-Data-Types.ipynb) >\n",
        "\n",
        "<a href=\"https://colab.research.google.com/github/htapia/TallerPythonIntroCienciaDatos/blob/master/notebooks/01.00-Introduction-to-NumPy.ipynb\"><img align=\"left\" src=\"https://colab.research.google.com/assets/colab-badge.svg\" alt=\"Open in Colab\" title=\"Open and Execute in Google Colaboratory\"></a>\n"
      ]
    }
  ]
}