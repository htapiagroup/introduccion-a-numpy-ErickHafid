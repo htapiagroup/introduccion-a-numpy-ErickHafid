{
  "nbformat": 4,
  "nbformat_minor": 0,
  "metadata": {
    "anaconda-cloud": {},
    "kernelspec": {
      "display_name": "Python 2",
      "language": "python",
      "name": "python2"
    },
    "language_info": {
      "codemirror_mode": {
        "name": "ipython",
        "version": 2
      },
      "file_extension": ".py",
      "mimetype": "text/x-python",
      "name": "python",
      "nbconvert_exporter": "python",
      "pygments_lexer": "ipython2",
      "version": "2.7.15"
    },
    "colab": {
      "name": "01.09-Structured-Data-NumPy.ipynb",
      "provenance": []
    }
  },
  "cells": [
    {
      "cell_type": "markdown",
      "metadata": {
        "id": "fONbXyVy1DFx",
        "colab_type": "text"
      },
      "source": [
        "<!--NAVIGATION-->\n",
        "< [Ordenando elementos de un arreglo](01.08-Sorting.ipynb) | [Contenido](Index.ipynb) | [Manipulación de datos con Pandas](02.00-Introduction-to-Pandas.ipynb) >\n",
        "\n",
        "<a href=\"https://colab.research.google.com/github/htapia/TallerPythonIntroCienciaDatos/blob/master/notebooks/01.09-Structured-Data-NumPy.ipynb\"><img align=\"left\" src=\"https://colab.research.google.com/assets/colab-badge.svg\" alt=\"Open in Colab\" title=\"Open and Execute in Google Colaboratory\"></a>\n"
      ]
    },
    {
      "cell_type": "markdown",
      "metadata": {
        "id": "2qUwzfpO1DF8",
        "colab_type": "text"
      },
      "source": [
        "# Datos estructurados en NumPy"
      ]
    },
    {
      "cell_type": "code",
      "metadata": {
        "id": "rSaCmMh21DF_",
        "colab_type": "code",
        "colab": {}
      },
      "source": [
        "import numpy as np"
      ],
      "execution_count": 0,
      "outputs": []
    },
    {
      "cell_type": "code",
      "metadata": {
        "id": "ZgeXOzeH1DGP",
        "colab_type": "code",
        "colab": {}
      },
      "source": [
        "name = ['Alice', 'Bob', 'Cathy', 'Doug']\n",
        "age = [25, 45, 37, 19]\n",
        "weight = [55.0, 85.5, 68.0, 61.5]"
      ],
      "execution_count": 0,
      "outputs": []
    },
    {
      "cell_type": "code",
      "metadata": {
        "id": "eeHZPzKi1DGa",
        "colab_type": "code",
        "colab": {}
      },
      "source": [
        "x = np.zeros(4, dtype=int)"
      ],
      "execution_count": 0,
      "outputs": []
    },
    {
      "cell_type": "code",
      "metadata": {
        "id": "na0Yr_cb1DGs",
        "colab_type": "code",
        "colab": {
          "base_uri": "https://localhost:8080/",
          "height": 34
        },
        "outputId": "31a212c7-f64a-46b5-bbda-6233acc0d421"
      },
      "source": [
        "# Use a compound data type for structured arrays\n",
        "data = np.zeros(4, dtype={'names':('name', 'age', 'weight'),\n",
        "                          'formats':('U10', 'i4', 'f8')})\n",
        "print(data.dtype)"
      ],
      "execution_count": 4,
      "outputs": [
        {
          "output_type": "stream",
          "text": [
            "[('name', '<U10'), ('age', '<i4'), ('weight', '<f8')]\n"
          ],
          "name": "stdout"
        }
      ]
    },
    {
      "cell_type": "code",
      "metadata": {
        "id": "pGGSg_h71DG2",
        "colab_type": "code",
        "colab": {
          "base_uri": "https://localhost:8080/",
          "height": 51
        },
        "outputId": "923f7cfe-47f1-4ba3-ef36-9c4cfda31b0e"
      },
      "source": [
        "data['name'] = name\n",
        "data['age'] = age\n",
        "data['weight'] = weight\n",
        "print(data)"
      ],
      "execution_count": 5,
      "outputs": [
        {
          "output_type": "stream",
          "text": [
            "[(u'Alice', 25, 55. ) (u'Bob', 45, 85.5) (u'Cathy', 37, 68. )\n",
            " (u'Doug', 19, 61.5)]\n"
          ],
          "name": "stdout"
        }
      ]
    },
    {
      "cell_type": "code",
      "metadata": {
        "id": "FtzE47-91DHB",
        "colab_type": "code",
        "colab": {
          "base_uri": "https://localhost:8080/",
          "height": 34
        },
        "outputId": "c42617ba-585b-4e5c-ea55-f181d8c523e2"
      },
      "source": [
        "# Get all names\n",
        "data['name']"
      ],
      "execution_count": 6,
      "outputs": [
        {
          "output_type": "execute_result",
          "data": {
            "text/plain": [
              "array([u'Alice', u'Bob', u'Cathy', u'Doug'], dtype='<U10')"
            ]
          },
          "metadata": {
            "tags": []
          },
          "execution_count": 6
        }
      ]
    },
    {
      "cell_type": "code",
      "metadata": {
        "id": "iTYCK61L1DHI",
        "colab_type": "code",
        "colab": {
          "base_uri": "https://localhost:8080/",
          "height": 34
        },
        "outputId": "ceb82e69-a628-4f86-9f8b-8f33fb76a99a"
      },
      "source": [
        "# Get first row of data\n",
        "data[0]"
      ],
      "execution_count": 7,
      "outputs": [
        {
          "output_type": "execute_result",
          "data": {
            "text/plain": [
              "(u'Alice', 25, 55.)"
            ]
          },
          "metadata": {
            "tags": []
          },
          "execution_count": 7
        }
      ]
    },
    {
      "cell_type": "code",
      "metadata": {
        "id": "1nTSnHTB1DHP",
        "colab_type": "code",
        "colab": {
          "base_uri": "https://localhost:8080/",
          "height": 34
        },
        "outputId": "b11c28fb-bdef-4f5b-b8f2-e620752fd960"
      },
      "source": [
        "# Get the name from the last row\n",
        "data[-1]['name']"
      ],
      "execution_count": 8,
      "outputs": [
        {
          "output_type": "execute_result",
          "data": {
            "text/plain": [
              "u'Doug'"
            ]
          },
          "metadata": {
            "tags": []
          },
          "execution_count": 8
        }
      ]
    },
    {
      "cell_type": "code",
      "metadata": {
        "id": "zloGtsBx1DHa",
        "colab_type": "code",
        "colab": {
          "base_uri": "https://localhost:8080/",
          "height": 34
        },
        "outputId": "b275af6f-b766-45b0-8f22-7189a9a2b6a4"
      },
      "source": [
        "# Get names where age is under 30\n",
        "data[data['age'] < 30]['name']"
      ],
      "execution_count": 9,
      "outputs": [
        {
          "output_type": "execute_result",
          "data": {
            "text/plain": [
              "array([u'Alice', u'Doug'], dtype='<U10')"
            ]
          },
          "metadata": {
            "tags": []
          },
          "execution_count": 9
        }
      ]
    },
    {
      "cell_type": "markdown",
      "metadata": {
        "id": "XVicXSGN1DHg",
        "colab_type": "text"
      },
      "source": [
        "## Creando Arrays Estructurados"
      ]
    },
    {
      "cell_type": "code",
      "metadata": {
        "id": "DD8c4hts1DHh",
        "colab_type": "code",
        "colab": {
          "base_uri": "https://localhost:8080/",
          "height": 34
        },
        "outputId": "bdec0568-875c-4135-a1fb-cebf4a5f2341"
      },
      "source": [
        "np.dtype({'names':('name', 'age', 'weight'),\n",
        "          'formats':('U10', 'i4', 'f8')})"
      ],
      "execution_count": 10,
      "outputs": [
        {
          "output_type": "execute_result",
          "data": {
            "text/plain": [
              "dtype([('name', '<U10'), ('age', '<i4'), ('weight', '<f8')])"
            ]
          },
          "metadata": {
            "tags": []
          },
          "execution_count": 10
        }
      ]
    },
    {
      "cell_type": "code",
      "metadata": {
        "id": "l4tFnezg1DHn",
        "colab_type": "code",
        "colab": {
          "base_uri": "https://localhost:8080/",
          "height": 34
        },
        "outputId": "f0de7f26-d7e9-47c4-aece-c66666ff06de"
      },
      "source": [
        "np.dtype({'names':('name', 'age', 'weight'),\n",
        "          'formats':((np.str_, 10), int, np.float32)})"
      ],
      "execution_count": 11,
      "outputs": [
        {
          "output_type": "execute_result",
          "data": {
            "text/plain": [
              "dtype([('name', 'S10'), ('age', '<i8'), ('weight', '<f4')])"
            ]
          },
          "metadata": {
            "tags": []
          },
          "execution_count": 11
        }
      ]
    },
    {
      "cell_type": "code",
      "metadata": {
        "id": "oaGEbv9G1DHx",
        "colab_type": "code",
        "colab": {
          "base_uri": "https://localhost:8080/",
          "height": 34
        },
        "outputId": "0818abf7-b189-49d8-c20c-1415b355e1e1"
      },
      "source": [
        "np.dtype([('name', 'S10'), ('age', 'i4'), ('weight', 'f8')])"
      ],
      "execution_count": 12,
      "outputs": [
        {
          "output_type": "execute_result",
          "data": {
            "text/plain": [
              "dtype([('name', 'S10'), ('age', '<i4'), ('weight', '<f8')])"
            ]
          },
          "metadata": {
            "tags": []
          },
          "execution_count": 12
        }
      ]
    },
    {
      "cell_type": "code",
      "metadata": {
        "id": "tnjT-4Ed1DH4",
        "colab_type": "code",
        "colab": {
          "base_uri": "https://localhost:8080/",
          "height": 34
        },
        "outputId": "9eec3063-2dc7-4b11-ad42-cf092fd1930b"
      },
      "source": [
        "np.dtype('S10,i4,f8')"
      ],
      "execution_count": 13,
      "outputs": [
        {
          "output_type": "execute_result",
          "data": {
            "text/plain": [
              "dtype([('f0', 'S10'), ('f1', '<i4'), ('f2', '<f8')])"
            ]
          },
          "metadata": {
            "tags": []
          },
          "execution_count": 13
        }
      ]
    },
    {
      "cell_type": "markdown",
      "metadata": {
        "id": "HFHTiVuV1DID",
        "colab_type": "text"
      },
      "source": [
        "\n",
        "\n",
        "| Character        | Description           | Example                             |\n",
        "| ---------        | -----------           | -------                             | \n",
        "| ``'b'``          | Byte                  | ``np.dtype('b')``                   |\n",
        "| ``'i'``          | Signed integer        | ``np.dtype('i4') == np.int32``      |\n",
        "| ``'u'``          | Unsigned integer      | ``np.dtype('u1') == np.uint8``      |\n",
        "| ``'f'``          | Floating point        | ``np.dtype('f8') == np.int64``      |\n",
        "| ``'c'``          | Complex floating point| ``np.dtype('c16') == np.complex128``|\n",
        "| ``'S'``, ``'a'`` | String                | ``np.dtype('S5')``                  |\n",
        "| ``'U'``          | Unicode string        | ``np.dtype('U') == np.str_``        |\n",
        "| ``'V'``          | Raw data (void)       | ``np.dtype('V') == np.void``        |"
      ]
    },
    {
      "cell_type": "markdown",
      "metadata": {
        "id": "ohIVeaaH1DIE",
        "colab_type": "text"
      },
      "source": [
        "## Tipos Compuestos mas avanzados"
      ]
    },
    {
      "cell_type": "code",
      "metadata": {
        "id": "Tgtn1ywX1DIH",
        "colab_type": "code",
        "colab": {
          "base_uri": "https://localhost:8080/",
          "height": 85
        },
        "outputId": "dece45fb-5d25-4624-e2cd-a091a2188795"
      },
      "source": [
        "tp = np.dtype([('id', 'i8'), ('mat', 'f8', (3, 3))])\n",
        "X = np.zeros(1, dtype=tp)\n",
        "print(X[0])\n",
        "print(X['mat'][0])"
      ],
      "execution_count": 14,
      "outputs": [
        {
          "output_type": "stream",
          "text": [
            "(0, [[0., 0., 0.], [0., 0., 0.], [0., 0., 0.]])\n",
            "[[0. 0. 0.]\n",
            " [0. 0. 0.]\n",
            " [0. 0. 0.]]\n"
          ],
          "name": "stdout"
        }
      ]
    },
    {
      "cell_type": "markdown",
      "metadata": {
        "id": "5GsDdyTY1DIO",
        "colab_type": "text"
      },
      "source": [
        "## Record Arrays\n"
      ]
    },
    {
      "cell_type": "code",
      "metadata": {
        "id": "Ape7PDV-1DIQ",
        "colab_type": "code",
        "colab": {
          "base_uri": "https://localhost:8080/",
          "height": 34
        },
        "outputId": "91520944-c5da-456e-9bbb-4a30521c527e"
      },
      "source": [
        "data['age']"
      ],
      "execution_count": 15,
      "outputs": [
        {
          "output_type": "execute_result",
          "data": {
            "text/plain": [
              "array([25, 45, 37, 19], dtype=int32)"
            ]
          },
          "metadata": {
            "tags": []
          },
          "execution_count": 15
        }
      ]
    },
    {
      "cell_type": "code",
      "metadata": {
        "id": "PCtcMQxe1DIc",
        "colab_type": "code",
        "colab": {
          "base_uri": "https://localhost:8080/",
          "height": 34
        },
        "outputId": "4c008be3-1de5-4616-be9a-33f2e72130fa"
      },
      "source": [
        "data_rec = data.view(np.recarray)\n",
        "data_rec.age"
      ],
      "execution_count": 16,
      "outputs": [
        {
          "output_type": "execute_result",
          "data": {
            "text/plain": [
              "array([25, 45, 37, 19], dtype=int32)"
            ]
          },
          "metadata": {
            "tags": []
          },
          "execution_count": 16
        }
      ]
    },
    {
      "cell_type": "code",
      "metadata": {
        "id": "KRh2Hb5j1DIj",
        "colab_type": "code",
        "colab": {
          "base_uri": "https://localhost:8080/",
          "height": 119
        },
        "outputId": "ab9ea28e-ef48-4a5f-d6f5-de689360f3a8"
      },
      "source": [
        "%timeit data['age']\n",
        "%timeit data_rec['age']\n",
        "%timeit data_rec.age"
      ],
      "execution_count": 17,
      "outputs": [
        {
          "output_type": "stream",
          "text": [
            "The slowest run took 74.34 times longer than the fastest. This could mean that an intermediate result is being cached.\n",
            "10000000 loops, best of 3: 109 ns per loop\n",
            "The slowest run took 8.92 times longer than the fastest. This could mean that an intermediate result is being cached.\n",
            "100000 loops, best of 3: 3.26 µs per loop\n",
            "The slowest run took 5.73 times longer than the fastest. This could mean that an intermediate result is being cached.\n",
            "100000 loops, best of 3: 5.04 µs per loop\n"
          ],
          "name": "stdout"
        }
      ]
    },
    {
      "cell_type": "markdown",
      "metadata": {
        "id": "lxyYWcaO1DIu",
        "colab_type": "text"
      },
      "source": [
        "<!--NAVIGATION-->\n",
        "< [Ordenando elementos de un arreglo](01.08-Sorting.ipynb) | [Contenido](Index.ipynb) | [Manipulación de datos con Pandas](02.00-Introduction-to-Pandas.ipynb) >\n",
        "\n",
        "<a href=\"https://colab.research.google.com/github/htapia/TallerPythonIntroCienciaDatos/blob/master/notebooks/01.09-Structured-Data-NumPy.ipynb\"><img align=\"left\" src=\"https://colab.research.google.com/assets/colab-badge.svg\" alt=\"Open in Colab\" title=\"Open and Execute in Google Colaboratory\"></a>\n"
      ]
    }
  ]
}